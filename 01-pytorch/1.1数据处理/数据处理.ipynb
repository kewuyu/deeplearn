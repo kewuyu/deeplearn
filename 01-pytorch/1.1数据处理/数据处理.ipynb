{
 "cells": [
  {
   "cell_type": "markdown",
   "metadata": {},
   "source": [
    "# 数据处理"
   ]
  },
  {
   "cell_type": "markdown",
   "metadata": {},
   "source": [
    "## 数据读取"
   ]
  },
  {
   "cell_type": "markdown",
   "metadata": {},
   "source": [
    "### torchvision"
   ]
  },
  {
   "cell_type": "markdown",
   "metadata": {},
   "source": [
    "#### 常用数据集加载"
   ]
  },
  {
   "cell_type": "markdown",
   "metadata": {},
   "source": [
    "#### 图像分类数据集"
   ]
  },
  {
   "cell_type": "markdown",
   "metadata": {},
   "source": [
    "### Dataset"
   ]
  },
  {
   "cell_type": "markdown",
   "metadata": {},
   "source": [
    "## 数据加载"
   ]
  },
  {
   "cell_type": "markdown",
   "metadata": {},
   "source": [
    "## 数据增强"
   ]
  },
  {
   "cell_type": "markdown",
   "metadata": {},
   "source": [
    "- CenterCrop：中心裁剪图像为指定大小。\n",
    "- ColorJitter：随机调整图像的亮度、对比度、饱和度和色调。\n",
    "- FiveCrop：从图像的四个角和中心裁剪出5个指定大小的图像。\n",
    "- Grayscale：将图像转换为灰度图像。\n",
    "- Lambda：应用自定义的lambda函数。\n",
    "- LinearTransformation：对图像进行线性变换。\n",
    "- Normalize：标准化图像。\n",
    "- Pad：用指定值填充图像。\n",
    "- RandomAffine：随机仿射变换。\n",
    "- RandomApply：随机应用一组变换。\n",
    "- RandomChoice：随机选择一组变换中的一个应用。\n",
    "- RandomCrop：随机裁剪图像为指定大小。\n",
    "- RandomErasing：随机擦除图像的一部分。\n",
    "- RandomGrayscale：随机将图像转换为灰度图像。\n",
    "- RandomHorizontalFlip：随机水平翻转图像。\n",
    "- RandomOrder：随机应用一组变换中的变换。\n",
    "- RandomPerspective：随机透视变换。\n",
    "- RandomResizedCrop：随机裁剪并调整图像大小。\n",
    "- RandomRotation：随机旋转图像。\n",
    "- RandomVerticalFlip：随机垂直翻转图像。\n",
    "- Resize：调整图像大小。\n",
    "- TenCrop：从图像的四个角和中心裁剪出10个指定大小的图像。\n",
    "- ToPILImage：将PyTorch张量转换为PIL图像。\n",
    "- ToTensor：将PIL图像转换为PyTorch张量。"
   ]
  }
 ],
 "metadata": {
  "kernelspec": {
   "display_name": "torch",
   "language": "python",
   "name": "python3"
  },
  "language_info": {
   "codemirror_mode": {
    "name": "ipython",
    "version": 3
   },
   "file_extension": ".py",
   "mimetype": "text/x-python",
   "name": "python",
   "nbconvert_exporter": "python",
   "pygments_lexer": "ipython3",
   "version": "3.9.18"
  }
 },
 "nbformat": 4,
 "nbformat_minor": 2
}
