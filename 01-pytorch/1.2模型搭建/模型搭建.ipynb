{
 "cells": [
  {
   "cell_type": "markdown",
   "metadata": {},
   "source": [
    "# 1、模型结构搭建"
   ]
  },
  {
   "cell_type": "markdown",
   "metadata": {},
   "source": [
    "深度学习与经典机器学习的一个最大的区别在于模型结构方面，经典机器学习模型往往有着固定的范式和结构，例如：随机森林就是由指定数量的决策树构成，虽然这里的n_estimators可以任选，但整体来看随机森林模型的结构是确定的；而深度学习模型的基础在于神经网络，即由若干的神经网络层构成，每一层使用的神经网络模块类型可以不同（全连接层、卷积层等等），包含的神经元数量差异也会带来很大的不同。也正因如此，深度学习给使用者提供了更大的设计创新空间。\n",
    "\n",
    "当然，网络架构（Architecture）的设计不需要从零开始，PyTorch这些深度学习框架的一大功能就是提供了基础的神经网络模块（Module），而使用者仅需根据自己的设计意图将其灵活组装起来即可——就像搭积木一般！"
   ]
  },
  {
   "cell_type": "code",
   "execution_count": 3,
   "metadata": {},
   "outputs": [],
   "source": [
    "from torch import nn\n",
    "import torch"
   ]
  },
  {
   "cell_type": "markdown",
   "metadata": {},
   "source": [
    "## 1.1线性层（全连接层）\n",
    "- 功能：将所有输入特征连接起来，用于综合特征并进行分类或回归。\n",
    "- 特点：\n",
    "    - 每个神经元与上一层的所有神经元相连。\n",
    "    - 输出的大小由神经元的数量决定。\n",
    "- 应用：通常在模型的最后几层，用于最终输出预测。"
   ]
  },
  {
   "cell_type": "code",
   "execution_count": 8,
   "metadata": {},
   "outputs": [
    {
     "name": "stdout",
     "output_type": "stream",
     "text": [
      "torch.Size([128, 20])\n",
      "torch.Size([128, 30])\n"
     ]
    }
   ],
   "source": [
    "m = nn.Linear(20,30)\n",
    "inputs = torch.randn(128, 20)\n",
    "print(inputs.shape)\n",
    "output = m(inputs)\n",
    "print(output.size())"
   ]
  },
  {
   "cell_type": "markdown",
   "metadata": {},
   "source": [
    "## 1.2卷积层\n",
    "- 功能：提取局部特征，特别适用于图像和时序数据。\n",
    "- 特点：\n",
    "    - 使用卷积核（filter）扫描输入数据，提取边缘、纹理等局部特征。\n",
    "    - 可调参数：卷积核大小、步长（stride）、填充（padding）等。\n",
    "- 应用：主要用于卷积神经网络（CNN）中，如图像分类、目标检测等任务"
   ]
  },
  {
   "cell_type": "code",
   "execution_count": null,
   "metadata": {},
   "outputs": [
    {
     "name": "stdout",
     "output_type": "stream",
     "text": [
      "torch.Size([20, 33, 24, 49])\n"
     ]
    }
   ],
   "source": [
    "m = nn.Conv2d(in_channels=16, out_channels=33, kernel_size=3, stride=2)\n",
    "# m = nn.Conv2d(16, 33, (3, 5), stride=(2, 1), padding=(4, 2))\n",
    "# m = nn.Conv2d(16, 33, (3, 5), stride=(2, 1), padding=(4, 2), dilation=(3, 1))\n",
    "input = torch.randn(20, 16, 50, 100)\n",
    "output = m(input)\n",
    "print(output.shape)"
   ]
  },
  {
   "cell_type": "markdown",
   "metadata": {},
   "source": [
    "## 1.3池化层\n",
    "- 功能：降维和压缩特征，减少计算量，提高模型的鲁棒性。\n",
    "- 类型：\n",
    "    - 最大池化（Max Pooling）：取窗口内的最大值。\n",
    "    - 平均池化（Average Pooling）：取窗口内的平均值。\n",
    "- 应用：通常与卷积层交替使用。"
   ]
  },
  {
   "cell_type": "code",
   "execution_count": 6,
   "metadata": {},
   "outputs": [
    {
     "name": "stdout",
     "output_type": "stream",
     "text": [
      "torch.Size([20, 16, 24, 31])\n"
     ]
    }
   ],
   "source": [
    "m = nn.MaxPool2d(3, stride=2)\n",
    "# m = nn.MaxPool2d((3, 2), stride=(2, 1))\n",
    "input = torch.randn(20, 16, 50, 32)\n",
    "output = m(input)\n",
    "print(output.shape)"
   ]
  },
  {
   "cell_type": "markdown",
   "metadata": {},
   "source": [
    "## 1.4激活函数\n",
    "- 功能：引入非线性，增强模型的表达能力。\n",
    "- 常见激活函数：\n",
    "    - ReLU（Rectified Linear Unit）：常用于隐藏层。\n",
    "    - Sigmoid：常用于二分类问题的输出层。\n",
    "    - Softmax：用于多分类问题的输出层。\n",
    "    - Tanh：用于某些特定场景。"
   ]
  },
  {
   "cell_type": "code",
   "execution_count": 8,
   "metadata": {},
   "outputs": [
    {
     "name": "stdout",
     "output_type": "stream",
     "text": [
      "Output with F.relu: tensor([[1.3166, 0.2974, 0.7103]])\n"
     ]
    }
   ],
   "source": [
    "import torch\n",
    "import torch.nn.functional as F\n",
    "\n",
    "x = torch.randn(1, 3)  \n",
    "\n",
    "output_f = F.relu(x)\n",
    "print(\"Output with F.relu:\", output_f)\n"
   ]
  },
  {
   "cell_type": "markdown",
   "metadata": {},
   "source": [
    "## 1.5归一化层\n",
    "- 功能：加速训练，提高模型稳定性。\n",
    "- 类型：\n",
    "    - 批归一化（Batch Normalization）：对每个批次的数据进行归一化。\n",
    "    - 层归一化（Layer Normalization）：对每一层的数据进行归一化。\n",
    "- 应用：常用于深度网络中以防止梯度消失或梯度爆炸。"
   ]
  },
  {
   "cell_type": "code",
   "execution_count": 10,
   "metadata": {},
   "outputs": [
    {
     "name": "stdout",
     "output_type": "stream",
     "text": [
      "torch.Size([20, 100, 35, 45])\n"
     ]
    }
   ],
   "source": [
    "m = nn.BatchNorm2d(100)\n",
    "input = torch.randn(20, 100, 35, 45)\n",
    "output = m(input)\n",
    "print(output.shape)"
   ]
  },
  {
   "cell_type": "markdown",
   "metadata": {},
   "source": [
    "## 1.6循环层\n",
    "- 功能：用于处理序列数据，捕获时间依赖性。\n",
    "- 类型：\n",
    "    - 简单循环网络（RNN）。\n",
    "    - 长短期记忆网络（LSTM）。\n",
    "    - 门控循环单元（GRU）。\n",
    "- 应用：主要用于自然语言处理、时间序列预测等任务。"
   ]
  },
  {
   "cell_type": "code",
   "execution_count": 11,
   "metadata": {},
   "outputs": [],
   "source": [
    "rnn = nn.RNN(10, 20, 2)\n",
    "input = torch.randn(5, 3, 10)\n",
    "h0 = torch.randn(2, 3, 20)\n",
    "output, hn = rnn(input, h0)\n"
   ]
  },
  {
   "cell_type": "code",
   "execution_count": 12,
   "metadata": {},
   "outputs": [],
   "source": [
    "rnn = nn.LSTM(10, 20, 2)\n",
    "input = torch.randn(5, 3, 10)\n",
    "h0 = torch.randn(2, 3, 20)\n",
    "c0 = torch.randn(2, 3, 20)\n",
    "output, (hn, cn) = rnn(input, (h0, c0))"
   ]
  },
  {
   "cell_type": "code",
   "execution_count": 13,
   "metadata": {},
   "outputs": [],
   "source": [
    "rnn = nn.GRU(10, 20, 2)\n",
    "input = torch.randn(5, 3, 10)\n",
    "h0 = torch.randn(2, 3, 20)\n",
    "output, hn = rnn(input, h0)"
   ]
  },
  {
   "cell_type": "markdown",
   "metadata": {},
   "source": [
    "## 1.7Dropout层\n",
    "- 功能：随机丢弃部分神经元，防止过拟合。\n",
    "- 特点：\n",
    "    - 在训练阶段随机丢弃，推理阶段保留所有神经元。\n",
    "    - 丢弃比例是一个超参数（如 0.5 表示丢弃 50%）"
   ]
  },
  {
   "cell_type": "code",
   "execution_count": 14,
   "metadata": {},
   "outputs": [],
   "source": [
    "m = nn.Dropout2d(p=0.2)\n",
    "input = torch.randn(20, 16, 32, 32)\n",
    "output = m(input)"
   ]
  },
  {
   "cell_type": "markdown",
   "metadata": {},
   "source": [
    "## 1.8完整的模型搭建"
   ]
  },
  {
   "cell_type": "code",
   "execution_count": 15,
   "metadata": {},
   "outputs": [
    {
     "name": "stdout",
     "output_type": "stream",
     "text": [
      "MLP(\n",
      "  (fc1): Linear(in_features=10, out_features=64, bias=True)\n",
      "  (fc2): Linear(in_features=64, out_features=1, bias=True)\n",
      "  (relu): ReLU()\n",
      "  (sigmoid): Sigmoid()\n",
      ")\n"
     ]
    }
   ],
   "source": [
    "import torch\n",
    "import torch.nn as nn\n",
    "import torch.optim as optim\n",
    "\n",
    "# 定义 MLP 模型\n",
    "class MLP(nn.Module):\n",
    "    def __init__(self, input_size, hidden_size, output_size):\n",
    "        super(MLP, self).__init__()\n",
    "        \n",
    "        # 定义输入层到隐藏层的全连接层\n",
    "        self.fc1 = nn.Linear(input_size, hidden_size)\n",
    "        \n",
    "        # 定义隐藏层到输出层的全连接层\n",
    "        self.fc2 = nn.Linear(hidden_size, output_size)\n",
    "        \n",
    "        # 激活函数\n",
    "        self.relu = nn.ReLU()\n",
    "        \n",
    "        # 输出层使用 Sigmoid 激活函数（因为是二分类问题）\n",
    "        self.sigmoid = nn.Sigmoid()\n",
    "\n",
    "    def forward(self, x):\n",
    "        # 输入通过第一个全连接层并激活\n",
    "        x = self.fc1(x)\n",
    "        x = self.relu(x)\n",
    "        \n",
    "        # 输入通过第二个全连接层\n",
    "        x = self.fc2(x)\n",
    "        \n",
    "        # 使用 Sigmoid 激活函数得到概率值\n",
    "        x = self.sigmoid(x)\n",
    "        \n",
    "        return x\n",
    "\n",
    "# 实例化 MLP 模型\n",
    "input_size = 10  # 输入特征的维度\n",
    "hidden_size = 64  # 隐藏层的维度\n",
    "output_size = 1  # 输出层的维度（对于二分类问题，输出层通常只有一个神经元）\n",
    "\n",
    "model = MLP(input_size, hidden_size, output_size)\n",
    "\n",
    "# 打印模型结构\n",
    "print(model)\n"
   ]
  },
  {
   "cell_type": "markdown",
   "metadata": {},
   "source": [
    "![alexnex](./Snipaste_2025-01-18_11-24-28.png)\n"
   ]
  },
  {
   "cell_type": "code",
   "execution_count": 16,
   "metadata": {},
   "outputs": [
    {
     "name": "stdout",
     "output_type": "stream",
     "text": [
      "AlexNet(\n",
      "  (features): Sequential(\n",
      "    (0): Conv2d(3, 96, kernel_size=(11, 11), stride=(4, 4), padding=(2, 2))\n",
      "    (1): ReLU(inplace=True)\n",
      "    (2): MaxPool2d(kernel_size=3, stride=2, padding=0, dilation=1, ceil_mode=False)\n",
      "    (3): Conv2d(96, 256, kernel_size=(5, 5), stride=(1, 1), padding=(2, 2))\n",
      "    (4): ReLU(inplace=True)\n",
      "    (5): MaxPool2d(kernel_size=3, stride=2, padding=0, dilation=1, ceil_mode=False)\n",
      "    (6): Conv2d(256, 384, kernel_size=(3, 3), stride=(1, 1), padding=(1, 1))\n",
      "    (7): ReLU(inplace=True)\n",
      "    (8): Conv2d(384, 384, kernel_size=(3, 3), stride=(1, 1), padding=(1, 1))\n",
      "    (9): ReLU(inplace=True)\n",
      "    (10): Conv2d(384, 256, kernel_size=(3, 3), stride=(1, 1), padding=(1, 1))\n",
      "    (11): ReLU(inplace=True)\n",
      "    (12): MaxPool2d(kernel_size=3, stride=2, padding=0, dilation=1, ceil_mode=False)\n",
      "  )\n",
      "  (classifier): Sequential(\n",
      "    (0): Dropout(p=0.5, inplace=False)\n",
      "    (1): Linear(in_features=9216, out_features=4096, bias=True)\n",
      "    (2): ReLU(inplace=True)\n",
      "    (3): Dropout(p=0.5, inplace=False)\n",
      "    (4): Linear(in_features=4096, out_features=4096, bias=True)\n",
      "    (5): ReLU(inplace=True)\n",
      "    (6): Linear(in_features=4096, out_features=10, bias=True)\n",
      "  )\n",
      ")\n",
      "----------------------------------------------------------------\n",
      "        Layer (type)               Output Shape         Param #\n",
      "================================================================\n",
      "            Conv2d-1           [-1, 96, 55, 55]          34,944\n",
      "              ReLU-2           [-1, 96, 55, 55]               0\n",
      "         MaxPool2d-3           [-1, 96, 27, 27]               0\n",
      "            Conv2d-4          [-1, 256, 27, 27]         614,656\n",
      "              ReLU-5          [-1, 256, 27, 27]               0\n",
      "         MaxPool2d-6          [-1, 256, 13, 13]               0\n",
      "            Conv2d-7          [-1, 384, 13, 13]         885,120\n",
      "              ReLU-8          [-1, 384, 13, 13]               0\n",
      "            Conv2d-9          [-1, 384, 13, 13]       1,327,488\n",
      "             ReLU-10          [-1, 384, 13, 13]               0\n",
      "           Conv2d-11          [-1, 256, 13, 13]         884,992\n",
      "             ReLU-12          [-1, 256, 13, 13]               0\n",
      "        MaxPool2d-13            [-1, 256, 6, 6]               0\n",
      "          Dropout-14                 [-1, 9216]               0\n",
      "           Linear-15                 [-1, 4096]      37,752,832\n",
      "             ReLU-16                 [-1, 4096]               0\n",
      "          Dropout-17                 [-1, 4096]               0\n",
      "           Linear-18                 [-1, 4096]      16,781,312\n",
      "             ReLU-19                 [-1, 4096]               0\n",
      "           Linear-20                   [-1, 10]          40,970\n",
      "================================================================\n",
      "Total params: 58,322,314\n",
      "Trainable params: 58,322,314\n",
      "Non-trainable params: 0\n",
      "----------------------------------------------------------------\n",
      "Input size (MB): 0.57\n",
      "Forward/backward pass size (MB): 11.08\n",
      "Params size (MB): 222.48\n",
      "Estimated Total Size (MB): 234.14\n",
      "----------------------------------------------------------------\n"
     ]
    }
   ],
   "source": [
    "import torch\n",
    "import torch.nn as nn\n",
    "import torch.optim as optim\n",
    "from torchsummary import summary\n",
    "\n",
    "class AlexNet(nn.Module):\n",
    "    def __init__(self, num_classes=1000):\n",
    "        super(AlexNet, self).__init__()\n",
    "        \n",
    "        # 定义卷积层\n",
    "        self.features = nn.Sequential(\n",
    "            nn.Conv2d(3, 96, kernel_size=11, stride=4, padding=2),  # 第1层卷积\n",
    "            nn.ReLU(inplace=True),\n",
    "            nn.MaxPool2d(kernel_size=3, stride=2),  # 最大池化\n",
    "            \n",
    "            nn.Conv2d(96, 256, kernel_size=5, padding=2),  # 第2层卷积\n",
    "            nn.ReLU(inplace=True),\n",
    "            nn.MaxPool2d(kernel_size=3, stride=2),  # 最大池化\n",
    "            \n",
    "            nn.Conv2d(256, 384, kernel_size=3, padding=1),  # 第3层卷积\n",
    "            nn.ReLU(inplace=True),\n",
    "            \n",
    "            nn.Conv2d(384, 384, kernel_size=3, padding=1),  # 第4层卷积\n",
    "            nn.ReLU(inplace=True),\n",
    "            \n",
    "            nn.Conv2d(384, 256, kernel_size=3, padding=1),  # 第5层卷积\n",
    "            nn.ReLU(inplace=True),\n",
    "            nn.MaxPool2d(kernel_size=3, stride=2)  # 最大池化\n",
    "        )\n",
    "        \n",
    "        # 定义全连接层\n",
    "        self.classifier = nn.Sequential(\n",
    "            nn.Dropout(),\n",
    "            nn.Linear(256 * 6 * 6, 4096),  # 256通道，6x6图像大小\n",
    "            nn.ReLU(inplace=True),\n",
    "            nn.Dropout(),\n",
    "            nn.Linear(4096, 4096),\n",
    "            nn.ReLU(inplace=True),\n",
    "            nn.Linear(4096, num_classes)  # 最后一层对应类别数量\n",
    "        )\n",
    "    \n",
    "    def forward(self, x):\n",
    "        x = self.features(x)  # 通过卷积层\n",
    "        x = torch.flatten(x, 1)  # 展平\n",
    "        x = self.classifier(x)  # 通过全连接层\n",
    "        return x\n",
    "\n",
    "# 示例用法\n",
    "model = AlexNet(num_classes=10)  # 用于10类分类\n",
    "print(model)\n",
    "\n",
    "# 打印模型概况\n",
    "summary(model, input_size=(3, 224, 224))  # 输入图像大小为224x224\n"
   ]
  },
  {
   "cell_type": "markdown",
   "metadata": {},
   "source": [
    "# 2、损失函数\n",
    "- 功能：衡量模型预测值与真实值之间的差异，为优化算法提供优化方向和依据。\n",
    "\n",
    "- 类型：\n",
    "\n",
    "    - 回归损失函数：\n",
    "        - 均方误差（MSE）：对预测值与真实值的误差平方求均值，强调较大误差的惩罚。\n",
    "        - 均绝误差（MAE）：对预测值与真实值的绝对误差求均值，更鲁棒但对大误差不敏感。\n",
    "        - Huber 损失：结合 MSE 和 MAE，适用于对异常值更鲁棒的场景。\n",
    "    - 分类损失函数：\n",
    "        - 交叉熵损失（Cross-Entropy Loss）：衡量预测分布与真实分布之间的差异，适用于二分类或多分类任务。\n",
    "        - 二元交叉熵（Binary Cross-Entropy）：专用于二分类任务的交叉熵损失函数。\n",
    "        - 稀疏交叉熵（Sparse Categorical Cross-Entropy）：用于多分类任务，支持整数标签形式。\n",
    "    - 对比损失函数：\n",
    "        - 对比损失（Contrastive Loss）：用于计算样本对的相似性，常见于嵌入学习。\n",
    "        - 三元组损失（Triplet Loss）：用于优化嵌入空间，使正样本靠近锚点，负样本远离锚点。\n",
    "- 应用：广泛应用于分类、回归、序列预测、嵌入学习等任务中，为模型提供衡量标准并指导参数优化。"
   ]
  },
  {
   "cell_type": "code",
   "execution_count": 17,
   "metadata": {},
   "outputs": [],
   "source": [
    "loss = nn.MSELoss()\n",
    "input = torch.randn(3, 5, requires_grad=True)\n",
    "target = torch.randn(3, 5)\n",
    "output = loss(input, target)\n",
    "output.backward()"
   ]
  },
  {
   "cell_type": "code",
   "execution_count": 18,
   "metadata": {},
   "outputs": [
    {
     "name": "stdout",
     "output_type": "stream",
     "text": [
      "tensor([[-2.1452, -0.6685,  0.4029, -1.4761,  2.5531],\n",
      "        [ 0.1007, -0.9141,  0.8897, -0.1023,  0.6255],\n",
      "        [ 0.1938, -0.1826, -0.8975, -1.2483,  0.9766]], requires_grad=True)\n"
     ]
    }
   ],
   "source": [
    "# 索引\n",
    "loss = nn.CrossEntropyLoss()\n",
    "input = torch.randn(3, 5, requires_grad=True)\n",
    "target = torch.empty(3, dtype=torch.long).random_(5)\n",
    "output = loss(input, target)\n",
    "output.backward()\n",
    "# 概率\n",
    "input = torch.randn(3, 5, requires_grad=True)\n",
    "target = torch.randn(3, 5).softmax(dim=1)\n",
    "output = loss(input, target)\n",
    "output.backward()"
   ]
  },
  {
   "cell_type": "markdown",
   "metadata": {},
   "source": [
    "# 3、优化器\n",
    "- 功能：优化器用于根据损失函数的梯度信息更新模型参数，从而使损失函数的值逐步减小。优化器是深度学习模型训练的关键组件，它通过迭代调整权重参数，帮助模型更快更准确地拟合数据。\n",
    "- 类型：\n",
    "    - SGD：简单而高效，适用于大规模数据集，但可能收敛缓慢。\n",
    "    - Momentum：在梯度下降中引入动量，适用于加速收敛。\n",
    "    - AdaGrad：适用于稀疏数据，自动调整每个参数的学习率。\n",
    "    - RMSProp：适用于非平稳问题，特别是在训练 RNN 时表现优秀。\n",
    "    - Adam：结合了动量法和 RMSProp，是最常用的优化器，适合各种任务。\n",
    "    - AdamW：Adam 的改进版，适用于需要正则化的任务。\n",
    "    - Nadam：结合了 Nesterov 动量的 Adam 版本，适合大多数任务。\n",
    "    - Adadelta：适用于梯度爆炸或消失问题，并且无需手动调整学习率。\n",
    "选择优化器时，要根据任务的具体需求、数据的特性以及模型的复杂度来决定最合适的优化算法。"
   ]
  },
  {
   "cell_type": "code",
   "execution_count": 20,
   "metadata": {},
   "outputs": [],
   "source": [
    "from torch import optim\n",
    "optimizer = optim.SGD(model.parameters(), lr=0.01, momentum=0.9)"
   ]
  }
 ],
 "metadata": {
  "kernelspec": {
   "display_name": "torch",
   "language": "python",
   "name": "python3"
  },
  "language_info": {
   "codemirror_mode": {
    "name": "ipython",
    "version": 3
   },
   "file_extension": ".py",
   "mimetype": "text/x-python",
   "name": "python",
   "nbconvert_exporter": "python",
   "pygments_lexer": "ipython3",
   "version": "3.9.18"
  }
 },
 "nbformat": 4,
 "nbformat_minor": 2
}
